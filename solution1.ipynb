{
 "cells": [
  {
   "cell_type": "code",
   "execution_count": 30,
   "metadata": {},
   "outputs": [
    {
     "name": "stdout",
     "output_type": "stream",
     "text": [
      "666zenu  mberoftheD  eviLL\n"
     ]
    }
   ],
   "source": [
    "def erase (chaine) :\n",
    "    liste = list(chaine)\n",
    "    res = \"\"\n",
    "    if len(liste)<1:\n",
    "        return \"\"\n",
    "    elif len(liste)==1:\n",
    "        if liste[0]==\" \":\n",
    "            return \"\"\n",
    "        else :\n",
    "            res += tab[0]\n",
    "            return res\n",
    "    if ((liste[0]==\" \") and (liste[1]==\" \")):\n",
    "        res+=\" \"\n",
    "    elif (liste[0]!= \" \"):\n",
    "        res+=liste[0]\n",
    "    else :\n",
    "        res+=\"\"\n",
    "    i=0\n",
    "    for i in range (1, len(liste)-1):\n",
    "        if ((liste[i]==\" \") and ((liste[i+1]==\" \")or(liste[i-1])==\" \")):\n",
    "            res+=\" \"\n",
    "        elif (liste[i]!= \" \"):\n",
    "            res+=liste[i]\n",
    "        else :\n",
    "            res+=\"\"\n",
    "    i+=1\n",
    "    if ((liste[i]==\" \") and (liste[i-1]==\" \")):\n",
    "        res+=\" \"\n",
    "    elif (liste[i]!= \" \"):\n",
    "        res+=liste[i]\n",
    "    else :\n",
    "        res+=\"\"\n",
    "    return res\n",
    "\n",
    "print (erase(\"Bo n  jour\"))"
   ]
  },
  {
   "cell_type": "code",
   "execution_count": null,
   "metadata": {},
   "outputs": [],
   "source": []
  }
 ],
 "metadata": {
  "kernelspec": {
   "display_name": "Python 3",
   "language": "python",
   "name": "python3"
  },
  "language_info": {
   "codemirror_mode": {
    "name": "ipython",
    "version": 3
   },
   "file_extension": ".py",
   "mimetype": "text/x-python",
   "name": "python",
   "nbconvert_exporter": "python",
   "pygments_lexer": "ipython3",
   "version": "3.7.3"
  }
 },
 "nbformat": 4,
 "nbformat_minor": 4
}
